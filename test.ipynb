{
 "cells": [
  {
   "cell_type": "code",
   "execution_count": 70,
   "metadata": {},
   "outputs": [
    {
     "name": "stdout",
     "output_type": "stream",
     "text": [
      "[10 10  5 10]\n",
      "[7 7 2 7]\n",
      "[[1.42857143 0.         0.         0.        ]\n",
      " [0.         1.42857143 0.         0.        ]\n",
      " [0.         0.         2.5        0.        ]\n",
      " [0.         0.         0.         1.42857143]]\n",
      "[1.42857143 1.42857143 2.5        1.42857143]\n",
      "[[10 30 10 30]\n",
      " [10 10  5 10]\n",
      " [10 10 30 30]]\n",
      "[[  0.           0.          -1.42857143]\n",
      " [ -8.57142857   0.          -1.42857143]\n",
      " [ -7.5          0.         -40.        ]\n",
      " [ -8.57142857   0.         -10.        ]]\n"
     ]
    }
   ],
   "source": [
    "import numpy as np\n",
    "\n",
    "temp = []\n",
    "temp.append([10, 10, 10])\n",
    "temp.append([30, 10, 10])\n",
    "temp.append([10, 5, 30])\n",
    "temp.append([30, 10, 30])\n",
    "vertices = np.array(temp)\n",
    "\n",
    "camera_point = (3, 3, 2)\n",
    "vertex_vectors = vertices - camera_point\n",
    "\n",
    "\n",
    "print(vertices[:,1])\n",
    "print(vertex_vectors[:,1])\n",
    "\n",
    "multiplier = []\n",
    "\n",
    "for x in range(np.shape(vertices)[0]):\n",
    "    multiplier.append(vertices[:,1][x] / vertex_vectors[:,1][x])\n",
    "\n",
    "multiplier = np.array(multiplier)\n",
    "print(np.diag(multiplier))\n",
    "# multiplier = np.atleast_2d(multiplier).T\n",
    "\n",
    "\n",
    "print(multiplier)\n",
    "\n",
    "print(np.transpose(vertices))\n",
    "\n",
    "\n",
    "out = np.matmul(np.transpose(vertex_vectors), np.diag(multiplier))\n",
    "\n",
    "vertex_transformed = np.transpose(vertices) - out\n",
    "vertex_transformed = np.transpose(vertex_transformed)\n",
    "print(vertex_transformed)"
   ]
  },
  {
   "cell_type": "code",
   "execution_count": 4,
   "metadata": {},
   "outputs": [
    {
     "name": "stdout",
     "output_type": "stream",
     "text": [
      "[[1 0 0 0]\n",
      " [0 2 0 0]\n",
      " [0 0 3 0]\n",
      " [0 0 0 5]]\n"
     ]
    }
   ],
   "source": [
    "import numpy as np \n",
    "\n",
    "\n",
    "test = [1,2,3,5]\n",
    "# doesn't work\n",
    "# print(np.array(test).diagonal())\n",
    "\n",
    "print(np.diag(np.array(test)))"
   ]
  },
  {
   "cell_type": "code",
   "execution_count": 7,
   "metadata": {},
   "outputs": [
    {
     "name": "stdout",
     "output_type": "stream",
     "text": [
      "[[0. 1. 2.]\n",
      " [3. 4. 5.]\n",
      " [6. 7. 8.]]\n",
      "[0. 1. 2.]\n",
      "[ 0 -1  0]\n"
     ]
    },
    {
     "data": {
      "text/plain": [
       "array([[0., 2., 2.],\n",
       "       [3., 5., 5.],\n",
       "       [6., 8., 8.]])"
      ]
     },
     "execution_count": 7,
     "metadata": {},
     "output_type": "execute_result"
    }
   ],
   "source": [
    "x1 = np.arange(9.0).reshape((3, 3))\n",
    "\n",
    "x2 = np.arange(3.0)\n",
    "\n",
    "x3 = np.array([0, -1, 0])\n",
    "\n",
    "print(x1)\n",
    "print(x2)\n",
    "print(x3)\n",
    "np.subtract(x1, x2)\n",
    "np.subtract(x1, x3)\n"
   ]
  },
  {
   "cell_type": "code",
   "execution_count": 12,
   "metadata": {},
   "outputs": [
    {
     "name": "stdout",
     "output_type": "stream",
     "text": [
      "(3, 5)\n",
      "[[  1 100   3   4   5]\n",
      " [  2 100   6   8  10]\n",
      " [  3 100   9  12  15]]\n"
     ]
    }
   ],
   "source": [
    "test = np.array([[1,2,3,4,5],[2,4,6,8,10],[3,6,9,12,15]])\n",
    "print(np.shape(test))\n",
    "test[:, 1] = [100]*np.shape(test)[0]\n",
    "print(test)"
   ]
  },
  {
   "cell_type": "markdown",
   "metadata": {},
   "source": []
  },
  {
   "cell_type": "code",
   "execution_count": 47,
   "metadata": {},
   "outputs": [
    {
     "name": "stdout",
     "output_type": "stream",
     "text": [
      "[[10 30 10 30]\n",
      " [10 10 30 30]]\n",
      "[[-10 -30 -10 -30]\n",
      " [-10 -10 -30 -30]]\n"
     ]
    },
    {
     "data": {
      "image/png": "[encoded data removed]",
      "text/plain": [
       "<Figure size 640x480 with 1 Axes>"
      ]
     },
     "metadata": {},
     "output_type": "display_data"
    }
   ],
   "source": [
    "\n",
    "\n",
    "data = np.array([[10, 10, 10],\n",
    "[30, 10, 10],\n",
    "[10, 10, 30],\n",
    "[30, 10, 30]])\n",
    "\n",
    "rot_matrix = np.array([\n",
    "    [-1,0],\n",
    "    [0,-1]\n",
    "])\n",
    "\n",
    "data_2d = data[:, ::2].T\n",
    "transformed_data_2d = np.matmul(rot_matrix, data[:,::2].T)\n",
    "\n",
    "print(data[:, ::2].T)\n",
    "print(np.matmul(rot_matrix, data[:,::2].T))\n",
    "\n",
    "fig, ax = plt.subplots()\n",
    "plt.axvline()\n",
    "plt.axhline()\n",
    "ax = plt.gca()\n",
    "ax.set_xlim([-50, 50])\n",
    "ax.set_ylim([-50, 50])\n",
    "\n",
    "for x,y in zip(*data_2d):\n",
    "    ax.scatter(x, y)\n",
    "\n",
    "for x,y in zip(*transformed_data_2d):\n",
    "    ax.scatter(x, y)\n",
    "\n",
    "    "
   ]
  }
 ],
 "metadata": {
  "kernelspec": {
   "display_name": "venv",
   "language": "python",
   "name": "python3"
  },
  "language_info": {
   "codemirror_mode": {
    "name": "ipython",
    "version": 3
   },
   "file_extension": ".py",
   "mimetype": "text/x-python",
   "name": "python",
   "nbconvert_exporter": "python",
   "pygments_lexer": "ipython3",
   "version": "3.11.3"
  },
  "orig_nbformat": 4
 },
 "nbformat": 4,
 "nbformat_minor": 2
}
