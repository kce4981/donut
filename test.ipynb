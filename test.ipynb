{
 "cells": [
  {
   "cell_type": "code",
   "execution_count": 70,
   "metadata": {},
   "outputs": [
    {
     "name": "stdout",
     "output_type": "stream",
     "text": [
      "[10 10  5 10]\n",
      "[7 7 2 7]\n",
      "[[1.42857143 0.         0.         0.        ]\n",
      " [0.         1.42857143 0.         0.        ]\n",
      " [0.         0.         2.5        0.        ]\n",
      " [0.         0.         0.         1.42857143]]\n",
      "[1.42857143 1.42857143 2.5        1.42857143]\n",
      "[[10 30 10 30]\n",
      " [10 10  5 10]\n",
      " [10 10 30 30]]\n",
      "[[  0.           0.          -1.42857143]\n",
      " [ -8.57142857   0.          -1.42857143]\n",
      " [ -7.5          0.         -40.        ]\n",
      " [ -8.57142857   0.         -10.        ]]\n"
     ]
    }
   ],
   "source": [
    "import numpy as np\n",
    "\n",
    "temp = []\n",
    "temp.append([10, 10, 10])\n",
    "temp.append([30, 10, 10])\n",
    "temp.append([10, 5, 30])\n",
    "temp.append([30, 10, 30])\n",
    "vertices = np.array(temp)\n",
    "\n",
    "camera_point = (3, 3, 2)\n",
    "vertex_vectors = vertices - camera_point\n",
    "\n",
    "\n",
    "print(vertices[:,1])\n",
    "print(vertex_vectors[:,1])\n",
    "\n",
    "multiplier = []\n",
    "\n",
    "for x in range(np.shape(vertices)[0]):\n",
    "    multiplier.append(vertices[:,1][x] / vertex_vectors[:,1][x])\n",
    "\n",
    "multiplier = np.array(multiplier)\n",
    "print(np.diag(multiplier))\n",
    "# multiplier = np.atleast_2d(multiplier).T\n",
    "\n",
    "\n",
    "print(multiplier)\n",
    "\n",
    "print(np.transpose(vertices))\n",
    "\n",
    "\n",
    "out = np.matmul(np.transpose(vertex_vectors), np.diag(multiplier))\n",
    "\n",
    "vertex_transformed = np.transpose(vertices) - out\n",
    "vertex_transformed = np.transpose(vertex_transformed)\n",
    "print(vertex_transformed)"
   ]
  },
  {
   "cell_type": "code",
   "execution_count": 4,
   "metadata": {},
   "outputs": [
    {
     "name": "stdout",
     "output_type": "stream",
     "text": [
      "[[1 0 0 0]\n",
      " [0 2 0 0]\n",
      " [0 0 3 0]\n",
      " [0 0 0 5]]\n"
     ]
    }
   ],
   "source": [
    "import numpy as np \n",
    "\n",
    "\n",
    "test = [1,2,3,5]\n",
    "# doesn't work\n",
    "# print(np.array(test).diagonal())\n",
    "\n",
    "print(np.diag(np.array(test)))"
   ]
  },
  {
   "cell_type": "code",
   "execution_count": 7,
   "metadata": {},
   "outputs": [
    {
     "name": "stdout",
     "output_type": "stream",
     "text": [
      "[[0. 1. 2.]\n",
      " [3. 4. 5.]\n",
      " [6. 7. 8.]]\n",
      "[0. 1. 2.]\n",
      "[ 0 -1  0]\n"
     ]
    },
    {
     "data": {
      "text/plain": [
       "array([[0., 2., 2.],\n",
       "       [3., 5., 5.],\n",
       "       [6., 8., 8.]])"
      ]
     },
     "execution_count": 7,
     "metadata": {},
     "output_type": "execute_result"
    }
   ],
   "source": [
    "x1 = np.arange(9.0).reshape((3, 3))\n",
    "\n",
    "x2 = np.arange(3.0)\n",
    "\n",
    "x3 = np.array([0, -1, 0])\n",
    "\n",
    "print(x1)\n",
    "print(x2)\n",
    "print(x3)\n",
    "np.subtract(x1, x2)\n",
    "np.subtract(x1, x3)\n"
   ]
  },
  {
   "cell_type": "code",
   "execution_count": 12,
   "metadata": {},
   "outputs": [
    {
     "name": "stdout",
     "output_type": "stream",
     "text": [
      "(3, 5)\n",
      "[[  1 100   3   4   5]\n",
      " [  2 100   6   8  10]\n",
      " [  3 100   9  12  15]]\n"
     ]
    }
   ],
   "source": [
    "test = np.array([[1,2,3,4,5],[2,4,6,8,10],[3,6,9,12,15]])\n",
    "print(np.shape(test))\n",
    "test[:, 1] = [100]*np.shape(test)[0]\n",
    "print(test)"
   ]
  },
  {
   "cell_type": "markdown",
   "metadata": {},
   "source": []
  },
  {
   "cell_type": "code",
   "execution_count": 47,
   "metadata": {},
   "outputs": [
    {
     "name": "stdout",
     "output_type": "stream",
     "text": [
      "[[10 30 10 30]\n",
      " [10 10 30 30]]\n",
      "[[-10 -30 -10 -30]\n",
      " [-10 -10 -30 -30]]\n"
     ]
    },
    {
     "data": {
      "image/png": "[encoded data removed]",
      "text/plain": [
       "<Figure size 640x480 with 1 Axes>"
      ]
     },
     "metadata": {},
     "output_type": "display_data"
    }
   ],
   "source": [
    "\n",
    "\n",
    "data = np.array([[10, 10, 10],\n",
    "[30, 10, 10],\n",
    "[10, 10, 30],\n",
    "[30, 10, 30]])\n",
    "\n",
    "rot_matrix = np.array([\n",
    "    [-1,0],\n",
    "    [0,-1]\n",
    "])\n",
    "\n",
    "data_2d = data[:, ::2].T\n",
    "transformed_data_2d = np.matmul(rot_matrix, data[:,::2].T)\n",
    "\n",
    "print(data[:, ::2].T)\n",
    "print(np.matmul(rot_matrix, data[:,::2].T))\n",
    "\n",
    "fig, ax = plt.subplots()\n",
    "plt.axvline()\n",
    "plt.axhline()\n",
    "ax = plt.gca()\n",
    "ax.set_xlim([-50, 50])\n",
    "ax.set_ylim([-50, 50])\n",
    "\n",
    "for x,y in zip(*data_2d):\n",
    "    ax.scatter(x, y)\n",
    "\n",
    "for x,y in zip(*transformed_data_2d):\n",
    "    ax.scatter(x, y)\n",
    "\n",
    "    "
   ]
  },
  {
   "cell_type": "code",
   "execution_count": 4,
   "metadata": {},
   "outputs": [
    {
     "data": {
      "text/plain": [
       "array([[ 5,  5,  5],\n",
       "       [25,  5,  5],\n",
       "       [ 5,  5, 25],\n",
       "       [25,  5, 25]])"
      ]
     },
     "execution_count": 4,
     "metadata": {},
     "output_type": "execute_result"
    }
   ],
   "source": [
    "import numpy as np\n",
    "def shift_origin(vertices, origin) -> np.array:\n",
    "    return vertices - origin\n",
    "\n",
    "\n",
    "data = np.array([\n",
    "    [10, 10, 10],\n",
    "    [30, 10, 10],\n",
    "    [10, 10, 30],\n",
    "    [30, 10, 30]\n",
    "])\n",
    "\n",
    "shift_origin(data, np.array([5,5,5]))"
   ]
  },
  {
   "cell_type": "code",
   "execution_count": 8,
   "metadata": {},
   "outputs": [
    {
     "name": "stdout",
     "output_type": "stream",
     "text": [
      "[[10 10 10]\n",
      " [30 10 10]\n",
      " [10 10 30]\n",
      " [30 10 30]]\n",
      "[[ 0 -2  5]\n",
      " [20 -2  5]\n",
      " [ 0 -2 25]\n",
      " [20 -2 25]]\n",
      "[[10 10 10]\n",
      " [30 10 10]\n",
      " [10 10 30]\n",
      " [30 10 30]]\n",
      "[[ 10   8   2]\n",
      " [ 30   8   2]\n",
      " [ 10 -11  -4]\n",
      " [ 30 -11  -4]]\n"
     ]
    }
   ],
   "source": [
    "import numpy as np\n",
    "\n",
    "radian = 1.9\n",
    "vertices = np.array([\n",
    "    [10, 10, 10],\n",
    "    [30, 10, 10],\n",
    "    [10, 10, 30],\n",
    "    [30, 10, 30]\n",
    "])\n",
    "origin = np.array([10,12,5])\n",
    "\n",
    "def rotate_matrix(radian) -> np.array:\n",
    "    return [\n",
    "        [np.cos(radian), -np.sin(radian)],\n",
    "        [np.sin(radian), np.cos(radian)]\n",
    "    ]\n",
    "\n",
    "print(vertices)\n",
    "vertices -= origin\n",
    "print(vertices)\n",
    "print(vertices + origin)\n",
    "\n",
    "vert_2d = vertices[:, 1:].T\n",
    "multiplied_vert_2d = np.matmul(rotate_matrix(radian), vert_2d).T\n",
    "new_vertices = vertices.copy()\n",
    "new_vertices[:, 1:] = multiplied_vert_2d\n",
    "\n",
    "new_vertices += origin\n",
    "\n",
    "\n",
    "print(new_vertices)\n"
   ]
  },
  {
   "cell_type": "code",
   "execution_count": 53,
   "metadata": {},
   "outputs": [
    {
     "name": "stdout",
     "output_type": "stream",
     "text": [
      "(80, 8, 3)\n"
     ]
    },
    {
     "data": {
      "image/png": "[encoded data removed]",
      "text/plain": [
       "<Figure size 640x480 with 1 Axes>"
      ]
     },
     "metadata": {},
     "output_type": "display_data"
    }
   ],
   "source": [
    "import pickle\n",
    "import numpy as np\n",
    "import matplotlib.pyplot as plt\n",
    "import matplotlib.colors as mcolors\n",
    "from itertools import cycle\n",
    "\n",
    "with open('./dumps/Cube.data', mode='rb') as fp:\n",
    "    data = pickle.load(fp)\n",
    "\n",
    "# print(data)\n",
    "# print(mcolors.BASE_COLORS)\n",
    "\n",
    "fig, ax = plt.subplots()\n",
    "plt.axvline()\n",
    "plt.axhline()\n",
    "ax = plt.gca()\n",
    "# ax.set_xlim([60, 80])\n",
    "# ax.set_ylim([40, 80])\n",
    "\n",
    "color = cycle(mcolors.BASE_COLORS)\n",
    "\n",
    "print(np.shape(data))\n",
    "\n",
    "for record in data:\n",
    "    vertices_2d = record[:, :2]\n",
    "    co = next(color)\n",
    "    for single_vertices in vertices_2d:\n",
    "        ax.scatter(single_vertices[0], single_vertices[1], c=co)\n",
    "\n",
    "\n"
   ]
  },
  {
   "cell_type": "code",
   "execution_count": 79,
   "metadata": {},
   "outputs": [
    {
     "data": {
      "text/plain": [
       "Text(53, -20, 'Camera_point')"
      ]
     },
     "execution_count": 79,
     "metadata": {},
     "output_type": "execute_result"
    },
    {
     "data": {
      "image/png": "[encoded data removed]",
      "text/plain": [
       "<Figure size 640x480 with 1 Axes>"
      ]
     },
     "metadata": {},
     "output_type": "display_data"
    }
   ],
   "source": [
    "import pickle\n",
    "import numpy as np\n",
    "import matplotlib.pyplot as plt\n",
    "import matplotlib.colors as mcolors\n",
    "from itertools import cycle\n",
    "\n",
    "with open('./dumps/Renderer.data', mode='rb') as fp:\n",
    "    data = pickle.load(fp)\n",
    "\n",
    "fig, ax = plt.subplots()\n",
    "plt.axvline()\n",
    "plt.axhline()\n",
    "ax = plt.gca()\n",
    "# ax.set_xlim([-50, 120])\n",
    "# ax.set_ylim([-50, 100])\n",
    "\n",
    "color = cycle(mcolors.BASE_COLORS)\n",
    "\n",
    "camera_point = data[1]\n",
    "data = data[0]\n",
    "\n",
    "count = -1\n",
    "dest_count = 10\n",
    "\n",
    "for snapshot in data:\n",
    "    count += 1\n",
    "\n",
    "    vert = snapshot[0][:, :2]\n",
    "    t_vert = snapshot[1][:, :2]\n",
    "\n",
    "    if count % 5 != 0:\n",
    "        continue\n",
    "\n",
    "    co = next(color)\n",
    "\n",
    "    for idx in range(8):\n",
    "\n",
    "        vert_2d = vert[idx]\n",
    "        t_vert_2d = t_vert[idx]\n",
    "\n",
    "        ax.scatter(*vert_2d, c=co)\n",
    "        ax.scatter(*t_vert_2d, c=co)\n",
    "    \n",
    "    count += 1\n",
    "\n",
    "ax.scatter(*camera_point[:2])\n",
    "plt.annotate(\"Camera_point\", camera_point[:2])\n",
    "    # vertices_2d = record[:, :2]\n",
    "    # co = next(color)\n",
    "        # ax.scatter(single_vertices[0], single_vertices[1], c=co)\n",
    "\n",
    "\n"
   ]
  }
 ],
 "metadata": {
  "kernelspec": {
   "display_name": "venv",
   "language": "python",
   "name": "python3"
  },
  "language_info": {
   "codemirror_mode": {
    "name": "ipython",
    "version": 3
   },
   "file_extension": ".py",
   "mimetype": "text/x-python",
   "name": "python",
   "nbconvert_exporter": "python",
   "pygments_lexer": "ipython3",
   "version": "3.11.3"
  },
  "orig_nbformat": 4
 },
 "nbformat": 4,
 "nbformat_minor": 2
}
