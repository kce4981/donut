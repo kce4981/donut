{
 "cells": [
  {
   "cell_type": "code",
   "execution_count": 70,
   "metadata": {},
   "outputs": [
    {
     "name": "stdout",
     "output_type": "stream",
     "text": [
      "[10 10  5 10]\n",
      "[7 7 2 7]\n",
      "[[1.42857143 0.         0.         0.        ]\n",
      " [0.         1.42857143 0.         0.        ]\n",
      " [0.         0.         2.5        0.        ]\n",
      " [0.         0.         0.         1.42857143]]\n",
      "[1.42857143 1.42857143 2.5        1.42857143]\n",
      "[[10 30 10 30]\n",
      " [10 10  5 10]\n",
      " [10 10 30 30]]\n",
      "[[  0.           0.          -1.42857143]\n",
      " [ -8.57142857   0.          -1.42857143]\n",
      " [ -7.5          0.         -40.        ]\n",
      " [ -8.57142857   0.         -10.        ]]\n"
     ]
    }
   ],
   "source": [
    "import numpy as np\n",
    "\n",
    "temp = []\n",
    "temp.append([10, 10, 10])\n",
    "temp.append([30, 10, 10])\n",
    "temp.append([10, 5, 30])\n",
    "temp.append([30, 10, 30])\n",
    "vertices = np.array(temp)\n",
    "\n",
    "camera_point = (3, 3, 2)\n",
    "vertex_vectors = vertices - camera_point\n",
    "\n",
    "\n",
    "print(vertices[:,1])\n",
    "print(vertex_vectors[:,1])\n",
    "\n",
    "multiplier = []\n",
    "\n",
    "for x in range(np.shape(vertices)[0]):\n",
    "    multiplier.append(vertices[:,1][x] / vertex_vectors[:,1][x])\n",
    "\n",
    "multiplier = np.array(multiplier)\n",
    "print(np.diag(multiplier))\n",
    "# multiplier = np.atleast_2d(multiplier).T\n",
    "\n",
    "\n",
    "print(multiplier)\n",
    "\n",
    "print(np.transpose(vertices))\n",
    "\n",
    "\n",
    "out = np.matmul(np.transpose(vertex_vectors), np.diag(multiplier))\n",
    "\n",
    "vertex_transformed = np.transpose(vertices) - out\n",
    "vertex_transformed = np.transpose(vertex_transformed)\n",
    "print(vertex_transformed)"
   ]
  },
  {
   "cell_type": "code",
   "execution_count": 4,
   "metadata": {},
   "outputs": [
    {
     "name": "stdout",
     "output_type": "stream",
     "text": [
      "[[1 0 0 0]\n",
      " [0 2 0 0]\n",
      " [0 0 3 0]\n",
      " [0 0 0 5]]\n"
     ]
    }
   ],
   "source": [
    "import numpy as np \n",
    "\n",
    "\n",
    "test = [1,2,3,5]\n",
    "# doesn't work\n",
    "# print(np.array(test).diagonal())\n",
    "\n",
    "print(np.diag(np.array(test)))"
   ]
  }
 ],
 "metadata": {
  "kernelspec": {
   "display_name": "venv",
   "language": "python",
   "name": "python3"
  },
  "language_info": {
   "codemirror_mode": {
    "name": "ipython",
    "version": 3
   },
   "file_extension": ".py",
   "mimetype": "text/x-python",
   "name": "python",
   "nbconvert_exporter": "python",
   "pygments_lexer": "ipython3",
   "version": "3.11.3"
  },
  "orig_nbformat": 4
 },
 "nbformat": 4,
 "nbformat_minor": 2
}
